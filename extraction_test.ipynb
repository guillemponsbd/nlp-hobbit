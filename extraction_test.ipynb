{
 "cells": [
  {
   "cell_type": "code",
   "execution_count": 26,
   "metadata": {},
   "outputs": [],
   "source": [
    "import subject_extraction as se"
   ]
  },
  {
   "cell_type": "code",
   "execution_count": 27,
   "metadata": {},
   "outputs": [],
   "source": [
    "text =  \"Hola Alquilo habitacion mes ENERO solamente UBICACIÓN INMEJORABLE :) Alquilo habitación en el Centro de Barcelona. Buscamos persona LATINA o EUROPEA Joven limpia y que trabaje,  en el piso ambiente Joven. Metro: Plaza Universidad, San Antoni , Liceu y Plaza Cataluña  // La alquilo Mes 300 gastos incluidos 150 de fianza, fibra óptica en el piso ascensor . Persona no fumadora para más información escríbeme :) Ambiente muy bueno acogedor donde te sentirás como en casa :)\""
   ]
  },
  {
   "cell_type": "code",
   "execution_count": 28,
   "metadata": {},
   "outputs": [
    {
     "data": {
      "text/plain": [
       "'Hola Alquilo habitacion mes ENERO solamente UBICACIÓN INMEJORABLE :) Alquilo habitación en el Centro de Barcelona. Buscamos persona LATINA o EUROPEA Joven limpia y que trabaje,  en el piso ambiente Joven. Metro: Plaza Universidad, San Antoni , Liceu y Plaza Cataluña  // La alquilo Mes 300 gastos incluidos 150 de fianza, fibra óptica en el piso ascensor . Persona no fumadora para más información escríbeme :) Ambiente muy bueno acogedor donde te sentirás como en casa :)'"
      ]
     },
     "execution_count": 28,
     "metadata": {},
     "output_type": "execute_result"
    }
   ],
   "source": [
    "text"
   ]
  },
  {
   "cell_type": "code",
   "execution_count": 29,
   "metadata": {},
   "outputs": [],
   "source": [
    "test = se._Description(text)"
   ]
  },
  {
   "cell_type": "code",
   "execution_count": 30,
   "metadata": {},
   "outputs": [],
   "source": [
    "tokens = test.tokenizer()"
   ]
  },
  {
   "cell_type": "code",
   "execution_count": 31,
   "metadata": {},
   "outputs": [
    {
     "data": {
      "text/plain": [
       "(['Hola Alquilo habitacion mes ENERO solamente UBICACIÓN INMEJORABLE :) Alquilo habitación en el Centro de Barcelona.',\n",
       "  'Buscamos persona LATINA o EUROPEA Joven limpia y que trabaje,  en el piso ambiente Joven.',\n",
       "  'Metro: Plaza Universidad, San Antoni , Liceu y Plaza Cataluña  // La alquilo Mes 300 gastos incluidos 150 de fianza, fibra óptica en el piso ascensor .',\n",
       "  'Persona no fumadora para más información escríbeme :) Ambiente muy bueno acogedor donde te sentirás como en casa :)'],\n",
       " [['Hola',\n",
       "   'Alquilo',\n",
       "   'habitacion',\n",
       "   'mes',\n",
       "   'ENERO',\n",
       "   'solamente',\n",
       "   'UBICACIÓN',\n",
       "   'INMEJORABLE',\n",
       "   ':',\n",
       "   ')',\n",
       "   'Alquilo',\n",
       "   'habitación',\n",
       "   'en',\n",
       "   'el',\n",
       "   'Centro',\n",
       "   'de',\n",
       "   'Barcelona',\n",
       "   '.'],\n",
       "  ['Buscamos',\n",
       "   'persona',\n",
       "   'LATINA',\n",
       "   'o',\n",
       "   'EUROPEA',\n",
       "   'Joven',\n",
       "   'limpia',\n",
       "   'y',\n",
       "   'que',\n",
       "   'trabaje',\n",
       "   ',',\n",
       "   'en',\n",
       "   'el',\n",
       "   'piso',\n",
       "   'ambiente',\n",
       "   'Joven',\n",
       "   '.'],\n",
       "  ['Metro',\n",
       "   ':',\n",
       "   'Plaza',\n",
       "   'Universidad',\n",
       "   ',',\n",
       "   'San',\n",
       "   'Antoni',\n",
       "   ',',\n",
       "   'Liceu',\n",
       "   'y',\n",
       "   'Plaza',\n",
       "   'Cataluña',\n",
       "   '//',\n",
       "   'La',\n",
       "   'alquilo',\n",
       "   'Mes',\n",
       "   '300',\n",
       "   'gastos',\n",
       "   'incluidos',\n",
       "   '150',\n",
       "   'de',\n",
       "   'fianza',\n",
       "   ',',\n",
       "   'fibra',\n",
       "   'óptica',\n",
       "   'en',\n",
       "   'el',\n",
       "   'piso',\n",
       "   'ascensor',\n",
       "   '.'],\n",
       "  ['Persona',\n",
       "   'no',\n",
       "   'fumadora',\n",
       "   'para',\n",
       "   'más',\n",
       "   'información',\n",
       "   'escríbeme',\n",
       "   ':',\n",
       "   ')',\n",
       "   'Ambiente',\n",
       "   'muy',\n",
       "   'bueno',\n",
       "   'acogedor',\n",
       "   'donde',\n",
       "   'te',\n",
       "   'sentirás',\n",
       "   'como',\n",
       "   'en',\n",
       "   'casa',\n",
       "   ':',\n",
       "   ')']])"
      ]
     },
     "execution_count": 31,
     "metadata": {},
     "output_type": "execute_result"
    }
   ],
   "source": [
    "tokens"
   ]
  },
  {
   "cell_type": "code",
   "execution_count": 32,
   "metadata": {},
   "outputs": [],
   "source": [
    "words = tokens[1]"
   ]
  },
  {
   "cell_type": "code",
   "execution_count": 33,
   "metadata": {},
   "outputs": [],
   "source": [
    "sentences = tokens[0]"
   ]
  },
  {
   "cell_type": "code",
   "execution_count": 34,
   "metadata": {},
   "outputs": [
    {
     "data": {
      "text/plain": [
       "[['Hola',\n",
       "  'Alquilo',\n",
       "  'habitacion',\n",
       "  'mes',\n",
       "  'ENERO',\n",
       "  'solamente',\n",
       "  'UBICACIÓN',\n",
       "  'INMEJORABLE',\n",
       "  ':',\n",
       "  ')',\n",
       "  'Alquilo',\n",
       "  'habitación',\n",
       "  'en',\n",
       "  'el',\n",
       "  'Centro',\n",
       "  'de',\n",
       "  'Barcelona',\n",
       "  '.'],\n",
       " ['Buscamos',\n",
       "  'persona',\n",
       "  'LATINA',\n",
       "  'o',\n",
       "  'EUROPEA',\n",
       "  'Joven',\n",
       "  'limpia',\n",
       "  'y',\n",
       "  'que',\n",
       "  'trabaje',\n",
       "  ',',\n",
       "  'en',\n",
       "  'el',\n",
       "  'piso',\n",
       "  'ambiente',\n",
       "  'Joven',\n",
       "  '.'],\n",
       " ['Metro',\n",
       "  ':',\n",
       "  'Plaza',\n",
       "  'Universidad',\n",
       "  ',',\n",
       "  'San',\n",
       "  'Antoni',\n",
       "  ',',\n",
       "  'Liceu',\n",
       "  'y',\n",
       "  'Plaza',\n",
       "  'Cataluña',\n",
       "  '//',\n",
       "  'La',\n",
       "  'alquilo',\n",
       "  'Mes',\n",
       "  '300',\n",
       "  'gastos',\n",
       "  'incluidos',\n",
       "  '150',\n",
       "  'de',\n",
       "  'fianza',\n",
       "  ',',\n",
       "  'fibra',\n",
       "  'óptica',\n",
       "  'en',\n",
       "  'el',\n",
       "  'piso',\n",
       "  'ascensor',\n",
       "  '.'],\n",
       " ['Persona',\n",
       "  'no',\n",
       "  'fumadora',\n",
       "  'para',\n",
       "  'más',\n",
       "  'información',\n",
       "  'escríbeme',\n",
       "  ':',\n",
       "  ')',\n",
       "  'Ambiente',\n",
       "  'muy',\n",
       "  'bueno',\n",
       "  'acogedor',\n",
       "  'donde',\n",
       "  'te',\n",
       "  'sentirás',\n",
       "  'como',\n",
       "  'en',\n",
       "  'casa',\n",
       "  ':',\n",
       "  ')']]"
      ]
     },
     "execution_count": 34,
     "metadata": {},
     "output_type": "execute_result"
    }
   ],
   "source": [
    "words"
   ]
  },
  {
   "cell_type": "code",
   "execution_count": 35,
   "metadata": {},
   "outputs": [],
   "source": [
    "entities = test.get_entities()"
   ]
  },
  {
   "cell_type": "code",
   "execution_count": 36,
   "metadata": {},
   "outputs": [
    {
     "data": {
      "text/plain": [
       "[[('Hola', 'NNP'),\n",
       "  ('Alquilo', 'NNP'),\n",
       "  ('habitacion', 'NN'),\n",
       "  ('mes', 'NNS'),\n",
       "  ('ENERO', 'NNP'),\n",
       "  ('solamente', 'NN'),\n",
       "  ('UBICACIÓN', 'NNP'),\n",
       "  ('INMEJORABLE', 'NNP'),\n",
       "  (':', ':'),\n",
       "  (')', ')'),\n",
       "  ('Alquilo', 'NNP'),\n",
       "  ('habitación', 'NN'),\n",
       "  ('en', 'FW'),\n",
       "  ('el', 'FW'),\n",
       "  ('Centro', 'NNP'),\n",
       "  ('de', 'FW'),\n",
       "  ('Barcelona', 'NNP'),\n",
       "  ('.', '.')],\n",
       " [('Buscamos', 'NNP'),\n",
       "  ('persona', 'NN'),\n",
       "  ('LATINA', 'NNP'),\n",
       "  ('o', 'NN'),\n",
       "  ('EUROPEA', 'NNP'),\n",
       "  ('Joven', 'NNP'),\n",
       "  ('limpia', 'VBD'),\n",
       "  ('y', 'JJ'),\n",
       "  ('que', 'NN'),\n",
       "  ('trabaje', 'NN'),\n",
       "  (',', ','),\n",
       "  ('en', 'FW'),\n",
       "  ('el', 'FW'),\n",
       "  ('piso', 'FW'),\n",
       "  ('ambiente', 'RB'),\n",
       "  ('Joven', 'NNP'),\n",
       "  ('.', '.')],\n",
       " [('Metro', 'NN'),\n",
       "  (':', ':'),\n",
       "  ('Plaza', 'NNP'),\n",
       "  ('Universidad', 'NNP'),\n",
       "  (',', ','),\n",
       "  ('San', 'NNP'),\n",
       "  ('Antoni', 'NNP'),\n",
       "  (',', ','),\n",
       "  ('Liceu', 'NNP'),\n",
       "  ('y', 'NNP'),\n",
       "  ('Plaza', 'NNP'),\n",
       "  ('Cataluña', 'NNP'),\n",
       "  ('//', 'NNP'),\n",
       "  ('La', 'NNP'),\n",
       "  ('alquilo', 'VBD'),\n",
       "  ('Mes', 'NNP'),\n",
       "  ('300', 'CD'),\n",
       "  ('gastos', 'NN'),\n",
       "  ('incluidos', 'JJ'),\n",
       "  ('150', 'CD'),\n",
       "  ('de', 'FW'),\n",
       "  ('fianza', 'NN'),\n",
       "  (',', ','),\n",
       "  ('fibra', 'NN'),\n",
       "  ('óptica', 'NNP'),\n",
       "  ('en', 'VBZ'),\n",
       "  ('el', 'FW'),\n",
       "  ('piso', 'NN'),\n",
       "  ('ascensor', 'NN'),\n",
       "  ('.', '.')],\n",
       " [('Persona', 'NNP'),\n",
       "  ('no', 'DT'),\n",
       "  ('fumadora', 'NN'),\n",
       "  ('para', 'NN'),\n",
       "  ('más', 'NN'),\n",
       "  ('información', 'JJ'),\n",
       "  ('escríbeme', 'NN'),\n",
       "  (':', ':'),\n",
       "  (')', ')'),\n",
       "  ('Ambiente', 'NNP'),\n",
       "  ('muy', 'FW'),\n",
       "  ('bueno', 'NN'),\n",
       "  ('acogedor', 'NN'),\n",
       "  ('donde', 'NN'),\n",
       "  ('te', 'NN'),\n",
       "  ('sentirás', 'NN'),\n",
       "  ('como', 'NN'),\n",
       "  ('en', 'FW'),\n",
       "  ('casa', 'NN'),\n",
       "  (':', ':'),\n",
       "  (')', ')')]]"
      ]
     },
     "execution_count": 36,
     "metadata": {},
     "output_type": "execute_result"
    }
   ],
   "source": [
    "entities"
   ]
  },
  {
   "cell_type": "code",
   "execution_count": 37,
   "metadata": {},
   "outputs": [],
   "source": [
    "import nltk"
   ]
  },
  {
   "cell_type": "code",
   "execution_count": 38,
   "metadata": {},
   "outputs": [
    {
     "data": {
      "text/plain": [
       "[('Buscamos', 'NNP'),\n",
       " ('persona', 'NN'),\n",
       " ('LATINA', 'NNP'),\n",
       " ('o', 'NN'),\n",
       " ('EUROPEA', 'NNP'),\n",
       " ('Joven', 'NNP'),\n",
       " ('limpia', 'VBD'),\n",
       " ('y', 'JJ'),\n",
       " ('que', 'NN'),\n",
       " ('trabaje', 'NN'),\n",
       " (',', ','),\n",
       " ('en', 'FW'),\n",
       " ('el', 'FW'),\n",
       " ('piso', 'FW'),\n",
       " ('ambiente', 'RB'),\n",
       " ('Joven', 'NNP'),\n",
       " ('.', '.')]"
      ]
     },
     "execution_count": 38,
     "metadata": {},
     "output_type": "execute_result"
    }
   ],
   "source": [
    "entities[1]"
   ]
  },
  {
   "cell_type": "code",
   "execution_count": 39,
   "metadata": {},
   "outputs": [
    {
     "ename": "TypeError",
     "evalue": "unhashable type: 'list'",
     "output_type": "error",
     "traceback": [
      "\u001b[0;31m---------------------------------------------------------------------------\u001b[0m",
      "\u001b[0;31mTypeError\u001b[0m                                 Traceback (most recent call last)",
      "\u001b[0;32m<ipython-input-39-c6f5d4061b7d>\u001b[0m in \u001b[0;36m<module>\u001b[0;34m\u001b[0m\n\u001b[0;32m----> 1\u001b[0;31m \u001b[0mfdist\u001b[0m \u001b[0;34m=\u001b[0m \u001b[0mnltk\u001b[0m\u001b[0;34m.\u001b[0m\u001b[0mFreqDist\u001b[0m\u001b[0;34m(\u001b[0m\u001b[0mwords\u001b[0m\u001b[0;34m)\u001b[0m\u001b[0;34m\u001b[0m\u001b[0m\n\u001b[0m",
      "\u001b[0;32m~/Documents/other-documents/nlp-hobbit/hobbit_env/lib/python3.5/site-packages/nltk/probability.py\u001b[0m in \u001b[0;36m__init__\u001b[0;34m(self, samples)\u001b[0m\n\u001b[1;32m    106\u001b[0m         \u001b[0;34m:\u001b[0m\u001b[0mtype\u001b[0m \u001b[0msamples\u001b[0m\u001b[0;34m:\u001b[0m \u001b[0mSequence\u001b[0m\u001b[0;34m\u001b[0m\u001b[0m\n\u001b[1;32m    107\u001b[0m         \"\"\"\n\u001b[0;32m--> 108\u001b[0;31m         \u001b[0mCounter\u001b[0m\u001b[0;34m.\u001b[0m\u001b[0m__init__\u001b[0m\u001b[0;34m(\u001b[0m\u001b[0mself\u001b[0m\u001b[0;34m,\u001b[0m \u001b[0msamples\u001b[0m\u001b[0;34m)\u001b[0m\u001b[0;34m\u001b[0m\u001b[0m\n\u001b[0m\u001b[1;32m    109\u001b[0m \u001b[0;34m\u001b[0m\u001b[0m\n\u001b[1;32m    110\u001b[0m         \u001b[0;31m# Cached number of samples in this FreqDist\u001b[0m\u001b[0;34m\u001b[0m\u001b[0;34m\u001b[0m\u001b[0m\n",
      "\u001b[0;32m/Library/Frameworks/Python.framework/Versions/3.5/lib/python3.5/collections/__init__.py\u001b[0m in \u001b[0;36m__init__\u001b[0;34m(*args, **kwds)\u001b[0m\n\u001b[1;32m    528\u001b[0m             \u001b[0;32mraise\u001b[0m \u001b[0mTypeError\u001b[0m\u001b[0;34m(\u001b[0m\u001b[0;34m'expected at most 1 arguments, got %d'\u001b[0m \u001b[0;34m%\u001b[0m \u001b[0mlen\u001b[0m\u001b[0;34m(\u001b[0m\u001b[0margs\u001b[0m\u001b[0;34m)\u001b[0m\u001b[0;34m)\u001b[0m\u001b[0;34m\u001b[0m\u001b[0m\n\u001b[1;32m    529\u001b[0m         \u001b[0msuper\u001b[0m\u001b[0;34m(\u001b[0m\u001b[0mCounter\u001b[0m\u001b[0;34m,\u001b[0m \u001b[0mself\u001b[0m\u001b[0;34m)\u001b[0m\u001b[0;34m.\u001b[0m\u001b[0m__init__\u001b[0m\u001b[0;34m(\u001b[0m\u001b[0;34m)\u001b[0m\u001b[0;34m\u001b[0m\u001b[0m\n\u001b[0;32m--> 530\u001b[0;31m         \u001b[0mself\u001b[0m\u001b[0;34m.\u001b[0m\u001b[0mupdate\u001b[0m\u001b[0;34m(\u001b[0m\u001b[0;34m*\u001b[0m\u001b[0margs\u001b[0m\u001b[0;34m,\u001b[0m \u001b[0;34m**\u001b[0m\u001b[0mkwds\u001b[0m\u001b[0;34m)\u001b[0m\u001b[0;34m\u001b[0m\u001b[0m\n\u001b[0m\u001b[1;32m    531\u001b[0m \u001b[0;34m\u001b[0m\u001b[0m\n\u001b[1;32m    532\u001b[0m     \u001b[0;32mdef\u001b[0m \u001b[0m__missing__\u001b[0m\u001b[0;34m(\u001b[0m\u001b[0mself\u001b[0m\u001b[0;34m,\u001b[0m \u001b[0mkey\u001b[0m\u001b[0;34m)\u001b[0m\u001b[0;34m:\u001b[0m\u001b[0;34m\u001b[0m\u001b[0m\n",
      "\u001b[0;32m~/Documents/other-documents/nlp-hobbit/hobbit_env/lib/python3.5/site-packages/nltk/probability.py\u001b[0m in \u001b[0;36mupdate\u001b[0;34m(self, *args, **kwargs)\u001b[0m\n\u001b[1;32m    144\u001b[0m         \"\"\"\n\u001b[1;32m    145\u001b[0m         \u001b[0mself\u001b[0m\u001b[0;34m.\u001b[0m\u001b[0m_N\u001b[0m \u001b[0;34m=\u001b[0m \u001b[0;32mNone\u001b[0m\u001b[0;34m\u001b[0m\u001b[0m\n\u001b[0;32m--> 146\u001b[0;31m         \u001b[0msuper\u001b[0m\u001b[0;34m(\u001b[0m\u001b[0mFreqDist\u001b[0m\u001b[0;34m,\u001b[0m \u001b[0mself\u001b[0m\u001b[0;34m)\u001b[0m\u001b[0;34m.\u001b[0m\u001b[0mupdate\u001b[0m\u001b[0;34m(\u001b[0m\u001b[0;34m*\u001b[0m\u001b[0margs\u001b[0m\u001b[0;34m,\u001b[0m \u001b[0;34m**\u001b[0m\u001b[0mkwargs\u001b[0m\u001b[0;34m)\u001b[0m\u001b[0;34m\u001b[0m\u001b[0m\n\u001b[0m\u001b[1;32m    147\u001b[0m \u001b[0;34m\u001b[0m\u001b[0m\n\u001b[1;32m    148\u001b[0m     \u001b[0;32mdef\u001b[0m \u001b[0msetdefault\u001b[0m\u001b[0;34m(\u001b[0m\u001b[0mself\u001b[0m\u001b[0;34m,\u001b[0m \u001b[0mkey\u001b[0m\u001b[0;34m,\u001b[0m \u001b[0mval\u001b[0m\u001b[0;34m)\u001b[0m\u001b[0;34m:\u001b[0m\u001b[0;34m\u001b[0m\u001b[0m\n",
      "\u001b[0;32m/Library/Frameworks/Python.framework/Versions/3.5/lib/python3.5/collections/__init__.py\u001b[0m in \u001b[0;36mupdate\u001b[0;34m(*args, **kwds)\u001b[0m\n\u001b[1;32m    615\u001b[0m                     \u001b[0msuper\u001b[0m\u001b[0;34m(\u001b[0m\u001b[0mCounter\u001b[0m\u001b[0;34m,\u001b[0m \u001b[0mself\u001b[0m\u001b[0;34m)\u001b[0m\u001b[0;34m.\u001b[0m\u001b[0mupdate\u001b[0m\u001b[0;34m(\u001b[0m\u001b[0miterable\u001b[0m\u001b[0;34m)\u001b[0m \u001b[0;31m# fast path when counter is empty\u001b[0m\u001b[0;34m\u001b[0m\u001b[0m\n\u001b[1;32m    616\u001b[0m             \u001b[0;32melse\u001b[0m\u001b[0;34m:\u001b[0m\u001b[0;34m\u001b[0m\u001b[0m\n\u001b[0;32m--> 617\u001b[0;31m                 \u001b[0m_count_elements\u001b[0m\u001b[0;34m(\u001b[0m\u001b[0mself\u001b[0m\u001b[0;34m,\u001b[0m \u001b[0miterable\u001b[0m\u001b[0;34m)\u001b[0m\u001b[0;34m\u001b[0m\u001b[0m\n\u001b[0m\u001b[1;32m    618\u001b[0m         \u001b[0;32mif\u001b[0m \u001b[0mkwds\u001b[0m\u001b[0;34m:\u001b[0m\u001b[0;34m\u001b[0m\u001b[0m\n\u001b[1;32m    619\u001b[0m             \u001b[0mself\u001b[0m\u001b[0;34m.\u001b[0m\u001b[0mupdate\u001b[0m\u001b[0;34m(\u001b[0m\u001b[0mkwds\u001b[0m\u001b[0;34m)\u001b[0m\u001b[0;34m\u001b[0m\u001b[0m\n",
      "\u001b[0;31mTypeError\u001b[0m: unhashable type: 'list'"
     ]
    }
   ],
   "source": []
  },
  {
   "cell_type": "code",
   "execution_count": 17,
   "metadata": {},
   "outputs": [
    {
     "ename": "NameError",
     "evalue": "name 'fdist' is not defined",
     "output_type": "error",
     "traceback": [
      "\u001b[0;31m---------------------------------------------------------------------------\u001b[0m",
      "\u001b[0;31mNameError\u001b[0m                                 Traceback (most recent call last)",
      "\u001b[0;32m<ipython-input-17-73f9cedc3dc3>\u001b[0m in \u001b[0;36m<module>\u001b[0;34m\u001b[0m\n\u001b[0;32m----> 1\u001b[0;31m \u001b[0mfdist\u001b[0m\u001b[0;34m\u001b[0m\u001b[0m\n\u001b[0m",
      "\u001b[0;31mNameError\u001b[0m: name 'fdist' is not defined"
     ]
    }
   ],
   "source": [
    "fdist"
   ]
  },
  {
   "cell_type": "code",
   "execution_count": 40,
   "metadata": {},
   "outputs": [],
   "source": [
    "fdist = nltk.FreqDist(nltk.tokenize.word_tokenize(text))"
   ]
  },
  {
   "cell_type": "code",
   "execution_count": 41,
   "metadata": {},
   "outputs": [
    {
     "data": {
      "text/plain": [
       "FreqDist({':': 4, ',': 4, 'en': 4, '.': 3, 'el': 3, ')': 3, 'Alquilo': 2, 'Plaza': 2, 'de': 2, 'Joven': 2, ...})"
      ]
     },
     "execution_count": 41,
     "metadata": {},
     "output_type": "execute_result"
    }
   ],
   "source": [
    "fdist"
   ]
  },
  {
   "cell_type": "code",
   "execution_count": 42,
   "metadata": {},
   "outputs": [
    {
     "data": {
      "image/png": "[encoded data removed]",
      "text/plain": [
       "<Figure size 432x288 with 1 Axes>"
      ]
     },
     "metadata": {
      "needs_background": "light"
     },
     "output_type": "display_data"
    }
   ],
   "source": [
    "fdist.plot()"
   ]
  },
  {
   "cell_type": "code",
   "execution_count": 43,
   "metadata": {},
   "outputs": [
    {
     "ename": "AttributeError",
     "evalue": "'FreqDist' object has no attribute 'show'",
     "output_type": "error",
     "traceback": [
      "\u001b[0;31m---------------------------------------------------------------------------\u001b[0m",
      "\u001b[0;31mAttributeError\u001b[0m                            Traceback (most recent call last)",
      "\u001b[0;32m<ipython-input-43-5b911bc10348>\u001b[0m in \u001b[0;36m<module>\u001b[0;34m\u001b[0m\n\u001b[0;32m----> 1\u001b[0;31m \u001b[0mfdist\u001b[0m\u001b[0;34m.\u001b[0m\u001b[0mshow\u001b[0m\u001b[0;34m(\u001b[0m\u001b[0;34m)\u001b[0m\u001b[0;34m\u001b[0m\u001b[0m\n\u001b[0m",
      "\u001b[0;31mAttributeError\u001b[0m: 'FreqDist' object has no attribute 'show'"
     ]
    }
   ],
   "source": [
    "fdist.show()"
   ]
  },
  {
   "cell_type": "code",
   "execution_count": 44,
   "metadata": {},
   "outputs": [
    {
     "ename": "AttributeError",
     "evalue": "'function' object has no attribute 'show'",
     "output_type": "error",
     "traceback": [
      "\u001b[0;31m---------------------------------------------------------------------------\u001b[0m",
      "\u001b[0;31mAttributeError\u001b[0m                            Traceback (most recent call last)",
      "\u001b[0;32m<ipython-input-44-0d1775fae76c>\u001b[0m in \u001b[0;36m<module>\u001b[0;34m\u001b[0m\n\u001b[0;32m----> 1\u001b[0;31m \u001b[0mfdist\u001b[0m\u001b[0;34m.\u001b[0m\u001b[0mplot\u001b[0m\u001b[0;34m.\u001b[0m\u001b[0mshow\u001b[0m\u001b[0;34m(\u001b[0m\u001b[0;34m)\u001b[0m\u001b[0;34m\u001b[0m\u001b[0m\n\u001b[0m",
      "\u001b[0;31mAttributeError\u001b[0m: 'function' object has no attribute 'show'"
     ]
    }
   ],
   "source": [
    "fdist.plot.show()"
   ]
  },
  {
   "cell_type": "code",
   "execution_count": 45,
   "metadata": {},
   "outputs": [
    {
     "data": {
      "image/png": "[encoded data removed]",
      "text/plain": [
       "<Figure size 432x288 with 1 Axes>"
      ]
     },
     "metadata": {
      "needs_background": "light"
     },
     "output_type": "display_data"
    }
   ],
   "source": [
    "fdist.plot()"
   ]
  },
  {
   "cell_type": "code",
   "execution_count": 48,
   "metadata": {},
   "outputs": [],
   "source": [
    "subject = test.extract_subject()"
   ]
  },
  {
   "cell_type": "code",
   "execution_count": 47,
   "metadata": {},
   "outputs": [
    {
     "data": {
      "text/plain": [
       "('el', 'FW')"
      ]
     },
     "execution_count": 47,
     "metadata": {},
     "output_type": "execute_result"
    }
   ],
   "source": [
    "subject"
   ]
  },
  {
   "cell_type": "code",
   "execution_count": 49,
   "metadata": {},
   "outputs": [
    {
     "ename": "TypeError",
     "evalue": "unhashable type: 'list'",
     "output_type": "error",
     "traceback": [
      "\u001b[0;31m---------------------------------------------------------------------------\u001b[0m",
      "\u001b[0;31mTypeError\u001b[0m                                 Traceback (most recent call last)",
      "\u001b[0;32m<ipython-input-49-52e8d73f455d>\u001b[0m in \u001b[0;36m<module>\u001b[0;34m\u001b[0m\n\u001b[0;32m----> 1\u001b[0;31m \u001b[0mtop_10_entities\u001b[0m \u001b[0;34m=\u001b[0m \u001b[0;34m[\u001b[0m\u001b[0mw\u001b[0m \u001b[0;32mfor\u001b[0m \u001b[0mw\u001b[0m\u001b[0;34m,\u001b[0m \u001b[0mc\u001b[0m \u001b[0;32min\u001b[0m \u001b[0mnltk\u001b[0m\u001b[0;34m.\u001b[0m\u001b[0mFreqDist\u001b[0m\u001b[0;34m(\u001b[0m\u001b[0mentities\u001b[0m\u001b[0;34m)\u001b[0m\u001b[0;34m.\u001b[0m\u001b[0mmost_common\u001b[0m\u001b[0;34m(\u001b[0m\u001b[0;36m10\u001b[0m\u001b[0;34m)\u001b[0m\u001b[0;34m]\u001b[0m\u001b[0;34m\u001b[0m\u001b[0m\n\u001b[0m",
      "\u001b[0;32m~/Documents/other-documents/nlp-hobbit/hobbit_env/lib/python3.5/site-packages/nltk/probability.py\u001b[0m in \u001b[0;36m__init__\u001b[0;34m(self, samples)\u001b[0m\n\u001b[1;32m    106\u001b[0m         \u001b[0;34m:\u001b[0m\u001b[0mtype\u001b[0m \u001b[0msamples\u001b[0m\u001b[0;34m:\u001b[0m \u001b[0mSequence\u001b[0m\u001b[0;34m\u001b[0m\u001b[0m\n\u001b[1;32m    107\u001b[0m         \"\"\"\n\u001b[0;32m--> 108\u001b[0;31m         \u001b[0mCounter\u001b[0m\u001b[0;34m.\u001b[0m\u001b[0m__init__\u001b[0m\u001b[0;34m(\u001b[0m\u001b[0mself\u001b[0m\u001b[0;34m,\u001b[0m \u001b[0msamples\u001b[0m\u001b[0;34m)\u001b[0m\u001b[0;34m\u001b[0m\u001b[0m\n\u001b[0m\u001b[1;32m    109\u001b[0m \u001b[0;34m\u001b[0m\u001b[0m\n\u001b[1;32m    110\u001b[0m         \u001b[0;31m# Cached number of samples in this FreqDist\u001b[0m\u001b[0;34m\u001b[0m\u001b[0;34m\u001b[0m\u001b[0m\n",
      "\u001b[0;32m/Library/Frameworks/Python.framework/Versions/3.5/lib/python3.5/collections/__init__.py\u001b[0m in \u001b[0;36m__init__\u001b[0;34m(*args, **kwds)\u001b[0m\n\u001b[1;32m    528\u001b[0m             \u001b[0;32mraise\u001b[0m \u001b[0mTypeError\u001b[0m\u001b[0;34m(\u001b[0m\u001b[0;34m'expected at most 1 arguments, got %d'\u001b[0m \u001b[0;34m%\u001b[0m \u001b[0mlen\u001b[0m\u001b[0;34m(\u001b[0m\u001b[0margs\u001b[0m\u001b[0;34m)\u001b[0m\u001b[0;34m)\u001b[0m\u001b[0;34m\u001b[0m\u001b[0m\n\u001b[1;32m    529\u001b[0m         \u001b[0msuper\u001b[0m\u001b[0;34m(\u001b[0m\u001b[0mCounter\u001b[0m\u001b[0;34m,\u001b[0m \u001b[0mself\u001b[0m\u001b[0;34m)\u001b[0m\u001b[0;34m.\u001b[0m\u001b[0m__init__\u001b[0m\u001b[0;34m(\u001b[0m\u001b[0;34m)\u001b[0m\u001b[0;34m\u001b[0m\u001b[0m\n\u001b[0;32m--> 530\u001b[0;31m         \u001b[0mself\u001b[0m\u001b[0;34m.\u001b[0m\u001b[0mupdate\u001b[0m\u001b[0;34m(\u001b[0m\u001b[0;34m*\u001b[0m\u001b[0margs\u001b[0m\u001b[0;34m,\u001b[0m \u001b[0;34m**\u001b[0m\u001b[0mkwds\u001b[0m\u001b[0;34m)\u001b[0m\u001b[0;34m\u001b[0m\u001b[0m\n\u001b[0m\u001b[1;32m    531\u001b[0m \u001b[0;34m\u001b[0m\u001b[0m\n\u001b[1;32m    532\u001b[0m     \u001b[0;32mdef\u001b[0m \u001b[0m__missing__\u001b[0m\u001b[0;34m(\u001b[0m\u001b[0mself\u001b[0m\u001b[0;34m,\u001b[0m \u001b[0mkey\u001b[0m\u001b[0;34m)\u001b[0m\u001b[0;34m:\u001b[0m\u001b[0;34m\u001b[0m\u001b[0m\n",
      "\u001b[0;32m~/Documents/other-documents/nlp-hobbit/hobbit_env/lib/python3.5/site-packages/nltk/probability.py\u001b[0m in \u001b[0;36mupdate\u001b[0;34m(self, *args, **kwargs)\u001b[0m\n\u001b[1;32m    144\u001b[0m         \"\"\"\n\u001b[1;32m    145\u001b[0m         \u001b[0mself\u001b[0m\u001b[0;34m.\u001b[0m\u001b[0m_N\u001b[0m \u001b[0;34m=\u001b[0m \u001b[0;32mNone\u001b[0m\u001b[0;34m\u001b[0m\u001b[0m\n\u001b[0;32m--> 146\u001b[0;31m         \u001b[0msuper\u001b[0m\u001b[0;34m(\u001b[0m\u001b[0mFreqDist\u001b[0m\u001b[0;34m,\u001b[0m \u001b[0mself\u001b[0m\u001b[0;34m)\u001b[0m\u001b[0;34m.\u001b[0m\u001b[0mupdate\u001b[0m\u001b[0;34m(\u001b[0m\u001b[0;34m*\u001b[0m\u001b[0margs\u001b[0m\u001b[0;34m,\u001b[0m \u001b[0;34m**\u001b[0m\u001b[0mkwargs\u001b[0m\u001b[0;34m)\u001b[0m\u001b[0;34m\u001b[0m\u001b[0m\n\u001b[0m\u001b[1;32m    147\u001b[0m \u001b[0;34m\u001b[0m\u001b[0m\n\u001b[1;32m    148\u001b[0m     \u001b[0;32mdef\u001b[0m \u001b[0msetdefault\u001b[0m\u001b[0;34m(\u001b[0m\u001b[0mself\u001b[0m\u001b[0;34m,\u001b[0m \u001b[0mkey\u001b[0m\u001b[0;34m,\u001b[0m \u001b[0mval\u001b[0m\u001b[0;34m)\u001b[0m\u001b[0;34m:\u001b[0m\u001b[0;34m\u001b[0m\u001b[0m\n",
      "\u001b[0;32m/Library/Frameworks/Python.framework/Versions/3.5/lib/python3.5/collections/__init__.py\u001b[0m in \u001b[0;36mupdate\u001b[0;34m(*args, **kwds)\u001b[0m\n\u001b[1;32m    615\u001b[0m                     \u001b[0msuper\u001b[0m\u001b[0;34m(\u001b[0m\u001b[0mCounter\u001b[0m\u001b[0;34m,\u001b[0m \u001b[0mself\u001b[0m\u001b[0;34m)\u001b[0m\u001b[0;34m.\u001b[0m\u001b[0mupdate\u001b[0m\u001b[0;34m(\u001b[0m\u001b[0miterable\u001b[0m\u001b[0;34m)\u001b[0m \u001b[0;31m# fast path when counter is empty\u001b[0m\u001b[0;34m\u001b[0m\u001b[0m\n\u001b[1;32m    616\u001b[0m             \u001b[0;32melse\u001b[0m\u001b[0;34m:\u001b[0m\u001b[0;34m\u001b[0m\u001b[0m\n\u001b[0;32m--> 617\u001b[0;31m                 \u001b[0m_count_elements\u001b[0m\u001b[0;34m(\u001b[0m\u001b[0mself\u001b[0m\u001b[0;34m,\u001b[0m \u001b[0miterable\u001b[0m\u001b[0;34m)\u001b[0m\u001b[0;34m\u001b[0m\u001b[0m\n\u001b[0m\u001b[1;32m    618\u001b[0m         \u001b[0;32mif\u001b[0m \u001b[0mkwds\u001b[0m\u001b[0;34m:\u001b[0m\u001b[0;34m\u001b[0m\u001b[0m\n\u001b[1;32m    619\u001b[0m             \u001b[0mself\u001b[0m\u001b[0;34m.\u001b[0m\u001b[0mupdate\u001b[0m\u001b[0;34m(\u001b[0m\u001b[0mkwds\u001b[0m\u001b[0;34m)\u001b[0m\u001b[0;34m\u001b[0m\u001b[0m\n",
      "\u001b[0;31mTypeError\u001b[0m: unhashable type: 'list'"
     ]
    }
   ],
   "source": [
    " top_10_entities = [w for w, c in nltk.FreqDist(entities).most_common(10)]"
   ]
  },
  {
   "cell_type": "code",
   "execution_count": 50,
   "metadata": {},
   "outputs": [
    {
     "data": {
      "text/plain": [
       "[[('Hola', 'NNP'),\n",
       "  ('Alquilo', 'NNP'),\n",
       "  ('habitacion', 'NN'),\n",
       "  ('mes', 'NNS'),\n",
       "  ('ENERO', 'NNP'),\n",
       "  ('solamente', 'NN'),\n",
       "  ('UBICACIÓN', 'NNP'),\n",
       "  ('INMEJORABLE', 'NNP'),\n",
       "  (':', ':'),\n",
       "  (')', ')'),\n",
       "  ('Alquilo', 'NNP'),\n",
       "  ('habitación', 'NN'),\n",
       "  ('en', 'FW'),\n",
       "  ('el', 'FW'),\n",
       "  ('Centro', 'NNP'),\n",
       "  ('de', 'FW'),\n",
       "  ('Barcelona', 'NNP'),\n",
       "  ('.', '.')],\n",
       " [('Buscamos', 'NNP'),\n",
       "  ('persona', 'NN'),\n",
       "  ('LATINA', 'NNP'),\n",
       "  ('o', 'NN'),\n",
       "  ('EUROPEA', 'NNP'),\n",
       "  ('Joven', 'NNP'),\n",
       "  ('limpia', 'VBD'),\n",
       "  ('y', 'JJ'),\n",
       "  ('que', 'NN'),\n",
       "  ('trabaje', 'NN'),\n",
       "  (',', ','),\n",
       "  ('en', 'FW'),\n",
       "  ('el', 'FW'),\n",
       "  ('piso', 'FW'),\n",
       "  ('ambiente', 'RB'),\n",
       "  ('Joven', 'NNP'),\n",
       "  ('.', '.')],\n",
       " [('Metro', 'NN'),\n",
       "  (':', ':'),\n",
       "  ('Plaza', 'NNP'),\n",
       "  ('Universidad', 'NNP'),\n",
       "  (',', ','),\n",
       "  ('San', 'NNP'),\n",
       "  ('Antoni', 'NNP'),\n",
       "  (',', ','),\n",
       "  ('Liceu', 'NNP'),\n",
       "  ('y', 'NNP'),\n",
       "  ('Plaza', 'NNP'),\n",
       "  ('Cataluña', 'NNP'),\n",
       "  ('//', 'NNP'),\n",
       "  ('La', 'NNP'),\n",
       "  ('alquilo', 'VBD'),\n",
       "  ('Mes', 'NNP'),\n",
       "  ('300', 'CD'),\n",
       "  ('gastos', 'NN'),\n",
       "  ('incluidos', 'JJ'),\n",
       "  ('150', 'CD'),\n",
       "  ('de', 'FW'),\n",
       "  ('fianza', 'NN'),\n",
       "  (',', ','),\n",
       "  ('fibra', 'NN'),\n",
       "  ('óptica', 'NNP'),\n",
       "  ('en', 'VBZ'),\n",
       "  ('el', 'FW'),\n",
       "  ('piso', 'NN'),\n",
       "  ('ascensor', 'NN'),\n",
       "  ('.', '.')],\n",
       " [('Persona', 'NNP'),\n",
       "  ('no', 'DT'),\n",
       "  ('fumadora', 'NN'),\n",
       "  ('para', 'NN'),\n",
       "  ('más', 'NN'),\n",
       "  ('información', 'JJ'),\n",
       "  ('escríbeme', 'NN'),\n",
       "  (':', ':'),\n",
       "  (')', ')'),\n",
       "  ('Ambiente', 'NNP'),\n",
       "  ('muy', 'FW'),\n",
       "  ('bueno', 'NN'),\n",
       "  ('acogedor', 'NN'),\n",
       "  ('donde', 'NN'),\n",
       "  ('te', 'NN'),\n",
       "  ('sentirás', 'NN'),\n",
       "  ('como', 'NN'),\n",
       "  ('en', 'FW'),\n",
       "  ('casa', 'NN'),\n",
       "  (':', ':'),\n",
       "  (')', ')')]]"
      ]
     },
     "execution_count": 50,
     "metadata": {},
     "output_type": "execute_result"
    }
   ],
   "source": [
    "entities"
   ]
  },
  {
   "cell_type": "code",
   "execution_count": 51,
   "metadata": {},
   "outputs": [
    {
     "data": {
      "text/plain": [
       "[[('Hola', 'NNP'),\n",
       "  ('Alquilo', 'NNP'),\n",
       "  ('habitacion', 'NN'),\n",
       "  ('mes', 'NNS'),\n",
       "  ('ENERO', 'NNP'),\n",
       "  ('solamente', 'NN'),\n",
       "  ('UBICACIÓN', 'NNP'),\n",
       "  ('INMEJORABLE', 'NNP'),\n",
       "  (':', ':'),\n",
       "  (')', ')'),\n",
       "  ('Alquilo', 'NNP'),\n",
       "  ('habitación', 'NN'),\n",
       "  ('en', 'FW'),\n",
       "  ('el', 'FW'),\n",
       "  ('Centro', 'NNP'),\n",
       "  ('de', 'FW'),\n",
       "  ('Barcelona', 'NNP'),\n",
       "  ('.', '.')],\n",
       " [('Buscamos', 'NNP'),\n",
       "  ('persona', 'NN'),\n",
       "  ('LATINA', 'NNP'),\n",
       "  ('o', 'NN'),\n",
       "  ('EUROPEA', 'NNP'),\n",
       "  ('Joven', 'NNP'),\n",
       "  ('limpia', 'VBD'),\n",
       "  ('y', 'JJ'),\n",
       "  ('que', 'NN'),\n",
       "  ('trabaje', 'NN'),\n",
       "  (',', ','),\n",
       "  ('en', 'FW'),\n",
       "  ('el', 'FW'),\n",
       "  ('piso', 'FW'),\n",
       "  ('ambiente', 'RB'),\n",
       "  ('Joven', 'NNP'),\n",
       "  ('.', '.')],\n",
       " [('Metro', 'NN'),\n",
       "  (':', ':'),\n",
       "  ('Plaza', 'NNP'),\n",
       "  ('Universidad', 'NNP'),\n",
       "  (',', ','),\n",
       "  ('San', 'NNP'),\n",
       "  ('Antoni', 'NNP'),\n",
       "  (',', ','),\n",
       "  ('Liceu', 'NNP'),\n",
       "  ('y', 'NNP'),\n",
       "  ('Plaza', 'NNP'),\n",
       "  ('Cataluña', 'NNP'),\n",
       "  ('//', 'NNP'),\n",
       "  ('La', 'NNP'),\n",
       "  ('alquilo', 'VBD'),\n",
       "  ('Mes', 'NNP'),\n",
       "  ('300', 'CD'),\n",
       "  ('gastos', 'NN'),\n",
       "  ('incluidos', 'JJ'),\n",
       "  ('150', 'CD'),\n",
       "  ('de', 'FW'),\n",
       "  ('fianza', 'NN'),\n",
       "  (',', ','),\n",
       "  ('fibra', 'NN'),\n",
       "  ('óptica', 'NNP'),\n",
       "  ('en', 'VBZ'),\n",
       "  ('el', 'FW'),\n",
       "  ('piso', 'NN'),\n",
       "  ('ascensor', 'NN'),\n",
       "  ('.', '.')],\n",
       " [('Persona', 'NNP'),\n",
       "  ('no', 'DT'),\n",
       "  ('fumadora', 'NN'),\n",
       "  ('para', 'NN'),\n",
       "  ('más', 'NN'),\n",
       "  ('información', 'JJ'),\n",
       "  ('escríbeme', 'NN'),\n",
       "  (':', ':'),\n",
       "  (')', ')'),\n",
       "  ('Ambiente', 'NNP'),\n",
       "  ('muy', 'FW'),\n",
       "  ('bueno', 'NN'),\n",
       "  ('acogedor', 'NN'),\n",
       "  ('donde', 'NN'),\n",
       "  ('te', 'NN'),\n",
       "  ('sentirás', 'NN'),\n",
       "  ('como', 'NN'),\n",
       "  ('en', 'FW'),\n",
       "  ('casa', 'NN'),\n",
       "  (':', ':'),\n",
       "  (')', ')')]]"
      ]
     },
     "execution_count": 51,
     "metadata": {},
     "output_type": "execute_result"
    }
   ],
   "source": [
    "entities"
   ]
  },
  {
   "cell_type": "code",
   "execution_count": null,
   "metadata": {},
   "outputs": [],
   "source": []
  }
 ],
 "metadata": {
  "kernelspec": {
   "display_name": "Python 3",
   "language": "python",
   "name": "python3"
  },
  "language_info": {
   "codemirror_mode": {
    "name": "ipython",
    "version": 3
   },
   "file_extension": ".py",
   "mimetype": "text/x-python",
   "name": "python",
   "nbconvert_exporter": "python",
   "pygments_lexer": "ipython3",
   "version": "3.5.2"
  }
 },
 "nbformat": 4,
 "nbformat_minor": 2
}
